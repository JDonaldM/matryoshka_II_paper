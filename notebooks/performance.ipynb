{
 "cells": [
  {
   "cell_type": "markdown",
   "metadata": {},
   "source": [
    "# Computational Performance\n",
    "\n",
    "In this notebook we compare the compuational performance of the `EFTEMU` to that of `PyBird`. To do this comparison we will be using the built-in magin command `timeit`. We will be making predictions with both the `EFTEMU` and `PyBird` 100 times and calculating the mean and standard deviation of the prediction time per multipole."
   ]
  },
  {
   "cell_type": "code",
   "execution_count": 1,
   "metadata": {},
   "outputs": [
    {
     "name": "stderr",
     "output_type": "stream",
     "text": [
      "2022-02-09 11:56:05.137488: W tensorflow/stream_executor/platform/default/dso_loader.cc:64] Could not load dynamic library 'libcudart.so.11.0'; dlerror: libcudart.so.11.0: cannot open shared object file: No such file or directory\n",
      "2022-02-09 11:56:05.137510: I tensorflow/stream_executor/cuda/cudart_stub.cc:29] Ignore above cudart dlerror if you do not have a GPU set up on your machine.\n"
     ]
    }
   ],
   "source": [
    "import numpy as np\n",
    "import matplotlib.pyplot as plt\n",
    "import matryoshka.emulator as MatEmu\n",
    "from classy import Class\n",
    "import pybird\n",
    "\n",
    "path_to_repo = \"/Users/jamie/Desktop/GitHubProjects/matryoshka_II_paper/\""
   ]
  },
  {
   "cell_type": "markdown",
   "metadata": {},
   "source": [
    "Documentation for the `timeit` command can be found [here](https://ipython.readthedocs.io/en/stable/interactive/magics.html). To use it to time `PyBird` we define a function that takes bias parameters and predicts the multipoles for a fixed cosmology and at a fixed redshift."
   ]
  },
  {
   "cell_type": "code",
   "execution_count": 2,
   "metadata": {},
   "outputs": [],
   "source": [
    "def pybird_power(bs):\n",
    "    \n",
    "    c2 = np.copy(bs[1])\n",
    "    c4 = np.copy(bs[3])\n",
    "    \n",
    "    bs[1] = (c2+c4)/np.sqrt(2)\n",
    "    bs[3] = (c2-c4)/np.sqrt(2)\n",
    "\n",
    "    M.set({'ln10^{10}A_s': 3.047,\n",
    "           'n_s': 0.9665,\n",
    "           'h': 0.6766,\n",
    "           'omega_b': 0.02242,\n",
    "           'omega_cdm': 0.11933,\n",
    "          })\n",
    "    M.compute()\n",
    "\n",
    "    Pk = [M.pk(ki*M.h(), zpk)*M.h()**3 for ki in kk]\n",
    "\n",
    "    f = M.scale_independent_growth_factor_f(zpk)\n",
    "\n",
    "    bird = pybird.Bird(kk, Pk, f, z=zpk, which='all', co=common)\n",
    "\n",
    "    nonlinear.PsCf(bird)\n",
    "    bird.setPsCfl()\n",
    "    resum.Ps(bird)\n",
    "    \n",
    "    b1, b2, b3, b4, b5, b6, b7 = bs\n",
    "    \n",
    "    \n",
    "    b11 = np.array([ b1**2, 2.*b1*f, f**2 ])\n",
    "    bct = np.array([ 2.*b1*b5, 2.*b1*b6, 2.*b1*b7, 2.*f*b5, 2.*f*b6, 2.*f*b7 ])\n",
    "    bloop = np.array([ 1., b1, b2, b3, b4, b1*b1, b1*b2, b1*b3, b1*b4, b2*b2, b2*b4, b4*b4 ])\n",
    "    lin = np.einsum('b,lbx->lx', b11, bird.P11l)\n",
    "    loop = np.einsum('b,lbx->lx', bloop, bird.Ploopl) \n",
    "    counterterm = np.einsum('b,lbx->lx', bct, bird.Pctl)\n",
    "    ravenPs = lin + loop + counterterm\n",
    "    \n",
    "    return ravenPs[0], ravenPs[1]"
   ]
  },
  {
   "cell_type": "markdown",
   "metadata": {},
   "source": [
    "We do all the set-up for `CLASS` and `PyBird` outside the function as it only needs to be done once."
   ]
  },
  {
   "cell_type": "code",
   "execution_count": 3,
   "metadata": {},
   "outputs": [],
   "source": [
    "M = Class()\n",
    "M.set({'output': 'mPk',\n",
    "       'P_k_max_1/Mpc': 1.0,\n",
    "       'z_max_pk': 0.61})\n",
    "common = pybird.Common(optiresum=False)\n",
    "nonlinear = pybird.NonLinear(load=True, save=True, co=common)\n",
    "resum = pybird.Resum(co=common)\n",
    "kk = np.logspace(-5, 0, 200)\n",
    "zpk=0.61"
   ]
  },
  {
   "cell_type": "markdown",
   "metadata": {},
   "source": [
    "We will be using the best-fit LOWZ NGC bias parameters. However these values don't really matter for this test."
   ]
  },
  {
   "cell_type": "code",
   "execution_count": 4,
   "metadata": {},
   "outputs": [],
   "source": [
    "bs_LOWZ = np.array([1.73, 1.0, -1.0, 0.0, 0.2, -10.03, 0.])"
   ]
  },
  {
   "cell_type": "markdown",
   "metadata": {},
   "source": [
    "Now we time `PyBird`,"
   ]
  },
  {
   "cell_type": "code",
   "execution_count": 5,
   "metadata": {},
   "outputs": [],
   "source": [
    "pybird_time = %timeit -o -q -n 1 -r 100 pybird_power(bs_LOWZ)"
   ]
  },
  {
   "cell_type": "markdown",
   "metadata": {},
   "source": [
    "the option `-o` saves the result, `-q` prevents the result being printed, using `-n 1` and `-r 100` means we make the prediction once and repeat this 100 time.\n",
    "\n",
    "We divide the mean and standard deviation calculated by 2 as the `pybird_power` function calculates both $P_0$ and $P_2$."
   ]
  },
  {
   "cell_type": "code",
   "execution_count": 6,
   "metadata": {},
   "outputs": [
    {
     "data": {
      "text/plain": [
       "(1.0128214647353162, 0.013293708143472372)"
      ]
     },
     "execution_count": 6,
     "metadata": {},
     "output_type": "execute_result"
    }
   ],
   "source": [
    "pybird_time.average/2, pybird_time.stdev/2"
   ]
  },
  {
   "cell_type": "markdown",
   "metadata": {},
   "source": [
    "We now initalise the $P_0$ part of the `EFTEMU`."
   ]
  },
  {
   "cell_type": "code",
   "execution_count": 7,
   "metadata": {},
   "outputs": [
    {
     "name": "stderr",
     "output_type": "stream",
     "text": [
      "2022-02-09 11:59:30.056329: W tensorflow/stream_executor/platform/default/dso_loader.cc:64] Could not load dynamic library 'libcuda.so.1'; dlerror: libcuda.so.1: cannot open shared object file: No such file or directory\n",
      "2022-02-09 11:59:30.056361: W tensorflow/stream_executor/cuda/cuda_driver.cc:269] failed call to cuInit: UNKNOWN ERROR (303)\n",
      "2022-02-09 11:59:30.056380: I tensorflow/stream_executor/cuda/cuda_diagnostics.cc:156] kernel driver does not appear to be running on this host (localhost.localdomain): /proc/driver/nvidia/version does not exist\n",
      "2022-02-09 11:59:30.056607: I tensorflow/core/platform/cpu_feature_guard.cc:151] This TensorFlow binary is optimized with oneAPI Deep Neural Network Library (oneDNN) to use the following CPU instructions in performance-critical operations:  AVX2 FMA\n",
      "To enable them in other operations, rebuild TensorFlow with the appropriate compiler flags.\n"
     ]
    }
   ],
   "source": [
    "P0_emu = MatEmu.EFT(0, redshift=0.61, version='EFT')"
   ]
  },
  {
   "cell_type": "markdown",
   "metadata": {},
   "source": [
    "We reshape the inputs,"
   ]
  },
  {
   "cell_type": "code",
   "execution_count": 8,
   "metadata": {},
   "outputs": [],
   "source": [
    "cosmo = np.array([0.11933, 0.02242, 0.6766, 3.047, 0.9665]).reshape(1,-1)\n",
    "bs_LOWZ = bs_LOWZ.reshape(1,-1)"
   ]
  },
  {
   "cell_type": "markdown",
   "metadata": {},
   "source": [
    "and time time the `EFTEMU`."
   ]
  },
  {
   "cell_type": "code",
   "execution_count": 9,
   "metadata": {},
   "outputs": [
    {
     "name": "stdout",
     "output_type": "stream",
     "text": [
      "4.22 ms ± 474 µs per loop (mean ± std. dev. of 100 runs, 1 loop each)\n"
     ]
    }
   ],
   "source": [
    "EFTEMU_time_single = %timeit -o -n 1 -r 100 P0_emu.emu_predict(cosmo, bs_LOWZ)"
   ]
  },
  {
   "cell_type": "markdown",
   "metadata": {},
   "source": [
    "We now time the `EFTEMU` when making predictions on a batch. We load the list of cosmologies we used for training and will be selecting from it when making the batch predictions."
   ]
  },
  {
   "cell_type": "code",
   "execution_count": 10,
   "metadata": {},
   "outputs": [],
   "source": [
    "cosmo_list = np.load(path_to_repo+\"data/training/cosmologies/eft_cosmologies_noDQ1.npy\")"
   ]
  },
  {
   "cell_type": "markdown",
   "metadata": {},
   "source": [
    "We will be starting with a batch size of $N=20$ so we repeat the bias parameters 20 times."
   ]
  },
  {
   "cell_type": "code",
   "execution_count": 11,
   "metadata": {},
   "outputs": [],
   "source": [
    "bs_stack = np.vstack(20*[bs_LOWZ])"
   ]
  },
  {
   "cell_type": "code",
   "execution_count": 12,
   "metadata": {},
   "outputs": [
    {
     "data": {
      "image/png": "[encoded data removed]",
      "text/plain": [
       "<Figure size 432x288 with 1 Axes>"
      ]
     },
     "metadata": {
      "needs_background": "light"
     },
     "output_type": "display_data"
    }
   ],
   "source": [
    "P0_preds = P0_emu.emu_predict(cosmo_list[:20], bs_stack)\n",
    "plt.figure()\n",
    "plt.plot(P0_emu.P11.kbins, (P0_emu.P11.kbins*P0_preds).T)\n",
    "plt.xlabel(r\"$k\\ [h\\ \\mathrm{Mpc}^{-1}]$\")\n",
    "plt.ylabel(r\"$kP_0(k)\\ [\\mathrm{Mpc}\\ h^{-1}]^2$\")\n",
    "plt.show()"
   ]
  },
  {
   "cell_type": "markdown",
   "metadata": {},
   "source": [
    "Now we time the `EFTEMU` again,"
   ]
  },
  {
   "cell_type": "code",
   "execution_count": 13,
   "metadata": {},
   "outputs": [],
   "source": [
    "bs_stack = np.vstack(20*[bs_LOWZ])\n",
    "EFTEMU_time_batch1 = %timeit -o -q -n 1 -r 100 P0_emu.emu_predict(cosmo_list[:20], bs_stack)"
   ]
  },
  {
   "cell_type": "markdown",
   "metadata": {},
   "source": [
    "and divide the results by 20 to get the time per prediction."
   ]
  },
  {
   "cell_type": "code",
   "execution_count": 14,
   "metadata": {},
   "outputs": [
    {
     "data": {
      "text/plain": [
       "(0.0002801134023902705, 4.608148039128081e-05)"
      ]
     },
     "execution_count": 14,
     "metadata": {},
     "output_type": "execute_result"
    }
   ],
   "source": [
    "EFTEMU_time_batch1.average/20, EFTEMU_time_batch1.stdev/20"
   ]
  },
  {
   "cell_type": "markdown",
   "metadata": {},
   "source": [
    "Now we try with a batch of $N=100$."
   ]
  },
  {
   "cell_type": "code",
   "execution_count": 15,
   "metadata": {},
   "outputs": [],
   "source": [
    "bs_stack = np.vstack(100*[bs_LOWZ])\n",
    "EFTEMU_time_batch2 = %timeit -o -q -n 1 -r 100 P0_emu.emu_predict(cosmo_list[:100], bs_stack)"
   ]
  },
  {
   "cell_type": "code",
   "execution_count": 16,
   "metadata": {},
   "outputs": [
    {
     "data": {
      "text/plain": [
       "(0.00010404801680124364, 8.118141364005163e-06)"
      ]
     },
     "execution_count": 16,
     "metadata": {},
     "output_type": "execute_result"
    }
   ],
   "source": [
    "EFTEMU_time_batch2.average/100, EFTEMU_time_batch2.stdev/100"
   ]
  },
  {
   "cell_type": "markdown",
   "metadata": {},
   "source": [
    "To quantify the speed-up when using the `EFTEMU` we compute the ratio of the `PyBird` and `EFTEMU` prediction times $R=t_\\texttt{PyBird}\\ / \\ t_\\texttt{EFTEMU}$.\n",
    "\n",
    "We propogate the errors on these quantities assuming there is zero correlation between them."
   ]
  },
  {
   "cell_type": "markdown",
   "metadata": {},
   "source": [
    "$$\n",
    "\\begin{align}\n",
    "\\sigma_R^2 &= \\left(\\frac{\\delta R}{\\delta t_\\texttt{PyBird}} \\sigma_{t_\\texttt{PyBird}}\\right)^2 + \\left(\\frac{\\delta R}{\\delta t_\\texttt{EFTEMU}} \\sigma_{t_\\texttt{EFTEMU}}\\right)^2\\\\\n",
    "&=\\frac{\\sigma_{t_\\texttt{PyBird}}^2}{t_\\texttt{EFTEMU}^2}+\\frac{t_\\texttt{PyBird}^2}{t_\\texttt{EFTEMU}^4}\\sigma_{t_\\texttt{PyBird}}^2\\\\\n",
    "&=R^2\\left(\\frac{\\sigma_{t_\\texttt{PyBird}}^2}{t_\\texttt{PyBird}^2}+\\frac{\\sigma_{t_\\texttt{EFTEMU}}^2}{t_\\texttt{EFTEMU}^2}\\right)\n",
    "\\end{align}\n",
    "$$"
   ]
  },
  {
   "cell_type": "code",
   "execution_count": 17,
   "metadata": {},
   "outputs": [],
   "source": [
    "def prop_err(alpha, beta, sig_alpha, sig_beta):\n",
    "    R = alpha/beta\n",
    "    sig = (sig_alpha/alpha)**2 + (sig_beta/beta)**2\n",
    "    return R, np.sqrt(sig*R**2)"
   ]
  },
  {
   "cell_type": "code",
   "execution_count": 18,
   "metadata": {},
   "outputs": [
    {
     "data": {
      "text/plain": [
       "(240.02964629302164, 27.150683513941352)"
      ]
     },
     "execution_count": 18,
     "metadata": {},
     "output_type": "execute_result"
    }
   ],
   "source": [
    "prop_err(pybird_time.average/2, EFTEMU_time_single.average, pybird_time.stdev/2, EFTEMU_time_single.stdev)"
   ]
  },
  {
   "cell_type": "code",
   "execution_count": 19,
   "metadata": {},
   "outputs": [
    {
     "data": {
      "text/plain": [
       "(3615.755105227681, 596.7184142917043)"
      ]
     },
     "execution_count": 19,
     "metadata": {},
     "output_type": "execute_result"
    }
   ],
   "source": [
    "prop_err(pybird_time.average/2, EFTEMU_time_batch1.average/20, pybird_time.stdev/2, EFTEMU_time_batch1.stdev/20)"
   ]
  },
  {
   "cell_type": "code",
   "execution_count": 20,
   "metadata": {},
   "outputs": [
    {
     "data": {
      "text/plain": [
       "(9734.1736620511, 770.1613750948123)"
      ]
     },
     "execution_count": 20,
     "metadata": {},
     "output_type": "execute_result"
    }
   ],
   "source": [
    "prop_err(pybird_time.average/2, EFTEMU_time_batch2.average/100, pybird_time.stdev/2, EFTEMU_time_batch2.stdev/100)"
   ]
  },
  {
   "cell_type": "code",
   "execution_count": null,
   "metadata": {},
   "outputs": [],
   "source": []
  }
 ],
 "metadata": {
  "kernelspec": {
   "display_name": "matryoshka",
   "language": "python",
   "name": "matryoshka"
  },
  "language_info": {
   "codemirror_mode": {
    "name": "ipython",
    "version": 3
   },
   "file_extension": ".py",
   "mimetype": "text/x-python",
   "name": "python",
   "nbconvert_exporter": "python",
   "pygments_lexer": "ipython3",
   "version": "3.7.11"
  }
 },
 "nbformat": 4,
 "nbformat_minor": 4
}
