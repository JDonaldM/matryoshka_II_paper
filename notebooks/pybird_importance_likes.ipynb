{
 "cells": [
  {
   "cell_type": "markdown",
   "metadata": {},
   "source": [
    "# `PyBird` likelihoods\n",
    "\n",
    "In this notebook we calculate likelihoods with `PyBird` for samples from a MCMC chain generated with the `EFTEMU`. These likelihoods will then be used to calculate importance weights."
   ]
  },
  {
   "cell_type": "code",
   "execution_count": 1,
   "metadata": {},
   "outputs": [],
   "source": [
    "import numpy as np\n",
    "import matplotlib.pyplot as plt\n",
    "import matryoshka.eft_funcs as MatEFT\n",
    "from scipy.interpolate import interp1d\n",
    "from scipy.stats import norm\n",
    "from classy import Class\n",
    "import pybird\n",
    "from tqdm import tqdm"
   ]
  },
  {
   "cell_type": "code",
   "execution_count": 2,
   "metadata": {},
   "outputs": [],
   "source": [
    "path_to_repo = \"/Users/jamie/Desktop/GitHubProjects/matryoshka_II_paper/\""
   ]
  },
  {
   "cell_type": "markdown",
   "metadata": {},
   "source": [
    "We start by loading the mock multipoles at $z=0.61$ and covaraince with $V_s^{1/3}=5000\\ \\mathrm{Mpc}\\ h^{-1}$."
   ]
  },
  {
   "cell_type": "code",
   "execution_count": 3,
   "metadata": {},
   "outputs": [],
   "source": [
    "P0 = np.load(path_to_repo+\"data/P18/z0.61/poles/P0_P18--z-0.61_optiresum-False.npy\")[1]\n",
    "P2 = np.load(path_to_repo+\"data/P18/z0.61/poles/P2_P18--z-0.61_optiresum-False.npy\")[1]\n",
    "klin = np.load(path_to_repo+\"data/P18/z0.61/poles/P2_P18--z-0.61_optiresum-False.npy\")[0]\n",
    "cov = np.load(path_to_repo+\"data/P18/z0.61/covs/cov_P18--z-0.61_Vs-5000.npy\")\n",
    "icov = np.linalg.inv(cov)"
   ]
  },
  {
   "cell_type": "markdown",
   "metadata": {},
   "source": [
    "We now define the truths. These are only used to fix the relevent parameters."
   ]
  },
  {
   "cell_type": "code",
   "execution_count": 5,
   "metadata": {},
   "outputs": [],
   "source": [
    "true_cosmo = np.array([0.11933, 0.02242, 0.6766, 3.047, 0.9665])\n",
    "fb = true_cosmo[1]/(true_cosmo[0]+true_cosmo[1])\n",
    "ng = 3e-4\n",
    "bs_CMASS = np.array([2.22, 1.2, 0.1, 0.0, 0.4, -7.7, 0., 0., 0., -3.7])"
   ]
  },
  {
   "cell_type": "markdown",
   "metadata": {},
   "source": [
    "Next we define the likelihood. This has the same, Gaussia, form as that used when running the MCMC with the `EFTEMU`. See `mcmc_z0.61_v3700_EFTEMU.ipynb`. If should be noted that the function is now designed to work with single parameter sets rather than a batch as with the `EFTEMU`."
   ]
  },
  {
   "cell_type": "code",
   "execution_count": null,
   "metadata": {},
   "outputs": [],
   "source": [
    "def log_like(theta, ks, obs, icov, ng):\n",
    "    \n",
    "    res = np.concatenate(power_pred(theta, ng, ks))-obs\n",
    "\n",
    "    return -0.5*np.dot(np.dot(res,icov),res.T)"
   ]
  },
  {
   "cell_type": "code",
   "execution_count": null,
   "metadata": {},
   "outputs": [],
   "source": [
    "def power_pred(theta, ng, ks):\n",
    "    cosmo = theta[:5] # Oc, Ob, h, As, ns\n",
    "    bias = theta[5:12] # b1, c2, b3, c4, cct, cr1, cr2\n",
    "    stoch = theta[12:] # ce1, cmono, cquad\n",
    "        \n",
    "    c2 = np.copy(bias[1])\n",
    "    c4 = np.copy(bias[3])\n",
    "    \n",
    "    bias[1] = (c2+c4)/np.sqrt(2)\n",
    "    bias[3] = (c2-c4)/np.sqrt(2)\n",
    "    \n",
    "    M.set({'ln10^{10}A_s': cosmo[3],\n",
    "           'n_s': cosmo[4],\n",
    "           'h': cosmo[2],\n",
    "           'omega_b': cosmo[1],\n",
    "           'omega_cdm': cosmo[0],\n",
    "          })\n",
    "    \n",
    "    # Calculate the linear power spectrum.\n",
    "    M.compute()\n",
    "        \n",
    "    # Convert to (Mpc/h)^3.\n",
    "    Pk = [M.pk(ki*M.h(), 0.61)*M.h()**3 for ki in kk]\n",
    "    \n",
    "    f = M.scale_independent_growth_factor_f(0.61)\n",
    "    \n",
    "    bird = pybird.Bird(kk, Pk, f, z=0.61, which='all', co=common)\n",
    "\n",
    "    # Calculate the desired functions.\n",
    "    nonlinear.PsCf(bird)\n",
    "    bird.setPsCfl()\n",
    "    resum.Ps(bird)\n",
    "    \n",
    "    # Compute multipoles from Pn.\n",
    "    P0_pred = MatEFT.multipole([bird.P11l[0][:,:39], bird.Ploopl[0][:,:39], bird.Pctl[0][:,:39]], \n",
    "                               bias, f, stochastic=stoch, ng=ng, multipole=0,\n",
    "                               kbins=pybird.kbird[:39])\n",
    " \n",
    "    P2_pred = MatEFT.multipole([bird.P11l[1][:,:39], bird.Ploopl[1][:,:39], bird.Pctl[1][:,:39]], \n",
    "                               bias, f, stochastic=stoch, ng=ng, multipole=2,\n",
    "                               kbins=pybird.kbird[:39])\n",
    "    \n",
    "    return interp1d(pybird.kbird[:39], P0_pred)(ks), interp1d(pybird.kbird[:39], P2_pred)(ks)"
   ]
  },
  {
   "cell_type": "markdown",
   "metadata": {},
   "source": [
    "We also define the function `fix_params()` that allows us to easily fix parameters."
   ]
  },
  {
   "cell_type": "code",
   "execution_count": 6,
   "metadata": {},
   "outputs": [],
   "source": [
    "def fix_params(theta, fix_val, fb):\n",
    "    var_id = np.array([0,2,3,5,6,7,9,10,12,14])\n",
    "    fix_id = np.array([4,8,11,13])\n",
    "    fix_theta = np.zeros((15, ))\n",
    "    fix_theta[var_id] = theta\n",
    "    fix_theta[fix_id] = fix_val\n",
    "    fix_theta[1] = -fb*theta[0]/(fb-1)\n",
    "    return fix_theta"
   ]
  },
  {
   "cell_type": "markdown",
   "metadata": {},
   "source": [
    "`CLASS` and `PyBird` set-up."
   ]
  },
  {
   "cell_type": "code",
   "execution_count": 7,
   "metadata": {},
   "outputs": [],
   "source": [
    "M = Class()\n",
    "M.set({'output': 'mPk',\n",
    "       'P_k_max_1/Mpc': 1.0,\n",
    "       'z_max_pk': 0.61})\n",
    "common = pybird.Common(optiresum=False)\n",
    "nonlinear = pybird.NonLinear(load=True, save=True, co=common)\n",
    "resum = pybird.Resum(co=common)\n",
    "kk = np.logspace(-5, 0, 200)"
   ]
  },
  {
   "cell_type": "markdown",
   "metadata": {},
   "source": [
    "We next load the MCMC chain generated with the `EFTEMU`. **It should be noted that this chain is generated with $V_s^{1/3}=3700\\ \\mathrm{Mpc}\\ h^{-1}$**. Using this smaller volume inflates the posterior and allows us to mitigate any risk of loosing tails of the `PyBird` posterior."
   ]
  },
  {
   "cell_type": "code",
   "execution_count": 8,
   "metadata": {},
   "outputs": [],
   "source": [
    "emu_chain = np.load(path_to_repo+\"results/chain--EFTEMU_z-0.61_V-3700_kmin-def_kmax-def_5.npy\")"
   ]
  },
  {
   "cell_type": "markdown",
   "metadata": {},
   "source": [
    "Loop over the samples in the chain and calculate the log-likelihood."
   ]
  },
  {
   "cell_type": "code",
   "execution_count": 9,
   "metadata": {},
   "outputs": [
    {
     "name": "stderr",
     "output_type": "stream",
     "text": [
      "1960it [1:13:57,  2.26s/it]\n"
     ]
    }
   ],
   "source": [
    "likes = np.zeros((emu_chain.shape[0]))\n",
    "for i, theta in tqdm(enumerate(emu_chain)):\n",
    "    likes[i] = log_like(fix_params(theta, np.array([true_cosmo[-1],0.,0.,0.]), fb),\n",
    "                                   klin, np.concatenate([P0,P2]), icov, ng)"
   ]
  },
  {
   "cell_type": "code",
   "execution_count": 10,
   "metadata": {},
   "outputs": [],
   "source": [
    "np.save(path_to_repo+\"results/pybird_likes--EFTEMU_z-0.61_Vc-3700_Vi-5000_kmin-def_kmax-def_5.npy\", likes)"
   ]
  },
  {
   "cell_type": "code",
   "execution_count": null,
   "metadata": {},
   "outputs": [],
   "source": []
  }
 ],
 "metadata": {
  "kernelspec": {
   "display_name": "matryoshka",
   "language": "python",
   "name": "matryoshka"
  },
  "language_info": {
   "codemirror_mode": {
    "name": "ipython",
    "version": 3
   },
   "file_extension": ".py",
   "mimetype": "text/x-python",
   "name": "python",
   "nbconvert_exporter": "python",
   "pygments_lexer": "ipython3",
   "version": "3.7.11"
  }
 },
 "nbformat": 4,
 "nbformat_minor": 4
}
