{
 "cells": [
  {
   "cell_type": "markdown",
   "metadata": {},
   "source": [
    "# Mock making: Power spectrum multipoles and Gaussian covariance.\n",
    "\n",
    "In this notebook we will make our mock galaxy power spectrum multipoles as well Gaussian covariances for these. As mentioned in `make_mocks_lin_and_loops.ipynb` these power spectra will have a Plank 2018 like cosmology, and will be calculated at $z=[0.38,0.51,0.61]$."
   ]
  },
  {
   "cell_type": "code",
   "execution_count": 1,
   "metadata": {},
   "outputs": [],
   "source": [
    "import numpy as np\n",
    "import matplotlib.pyplot as plt\n",
    "from scipy.interpolate import interp1d\n",
    "import matryoshka.emulator as MatEmu\n",
    "import matryoshka.halo_model_funcs as MatHM\n",
    "import matryoshka.eft_funcs as MatEFT"
   ]
  },
  {
   "cell_type": "markdown",
   "metadata": {},
   "source": [
    "As with most of the other notebooks in this repo we start by specifying the repo location."
   ]
  },
  {
   "cell_type": "code",
   "execution_count": 2,
   "metadata": {},
   "outputs": [],
   "source": [
    "path_to_repo = \"/Users/jamie/Desktop/GitHubProjects/matryoshka_II_paper/\""
   ]
  },
  {
   "cell_type": "markdown",
   "metadata": {},
   "source": [
    "We next specify where within the repo we would like to save the functions we are calculating here."
   ]
  },
  {
   "cell_type": "code",
   "execution_count": 3,
   "metadata": {},
   "outputs": [],
   "source": [
    "save_dir = path_to_repo+\"data/P18/\""
   ]
  },
  {
   "cell_type": "markdown",
   "metadata": {},
   "source": [
    "## Multipoles\n",
    "\n",
    "We need to define some bias parameters and counterterms that we will use to compute our mock multipoles. We will use the best fit LOWZ and CMASS-NGC parameters from table 3 in [d’Amico (2019)](https://arxiv.org/abs/1909.05271). The LOWZ parameters will be used for the mock power spectrum at $z=0.38$ and the CMASS parameters will be used for the mock power spectra at $z=0.51$ and $z=0.61$. These parameters are presented in the table below."
   ]
  },
  {
   "cell_type": "markdown",
   "metadata": {},
   "source": [
    "|Redshift|$b_1$|$c_2$|$b_3$|$c_4$|$c_{ct}$|$c_{r,1}$|$c_{\\epsilon,1}$|$c_q$|\n",
    "|:---:|:---:|:---:|:---:|:---:|:---:|:---:|---:|---:|\n",
    "|0.38|1.73|1.0|-1.0|0.0|0.2|-10.03|0.00|-2.1|\n",
    "|0.51,0.61|2.22|1.2|0.1|0.0|0.4|-7.7|0.00|-3.7|"
   ]
  },
  {
   "cell_type": "markdown",
   "metadata": {},
   "source": [
    "As in d'Amico (2019) we will set $c_4=0$, $c_{r,2}=0$ and $c_{\\epsilon,m}=0$."
   ]
  },
  {
   "cell_type": "code",
   "execution_count": 4,
   "metadata": {},
   "outputs": [],
   "source": [
    "# b1, c2, b3, c4, cct, cr1, cr2, ce, cm, cq\n",
    "bs_LOWZ = np.array([1.73, 1.0, -1.0, 0.0, 0.2, -10.03, 0., 0., 0., -2.1])\n",
    "bs_CMASS = np.array([2.22, 1.2, 0.1, 0.0, 0.4, -7.7, 0., 0., 0., -3.7])"
   ]
  },
  {
   "cell_type": "markdown",
   "metadata": {},
   "source": [
    "The parameters $c_2$ and $c_4$ are realted to the bias parameters $b_2$ and $b_4$ via the equations below,"
   ]
  },
  {
   "cell_type": "markdown",
   "metadata": {},
   "source": [
    "$$b_2 = \\frac{1}{\\sqrt{2}}(c_2+c_4)\\ ,$$"
   ]
  },
  {
   "cell_type": "markdown",
   "metadata": {},
   "source": [
    "$$b_4 = \\frac{1}{\\sqrt{2}}(c_2-c_4)\\ .$$"
   ]
  },
  {
   "cell_type": "code",
   "execution_count": 5,
   "metadata": {},
   "outputs": [],
   "source": [
    "def c_to_b(c2, c4):\n",
    "    return np.array([1/np.sqrt(2)*(c2+c4),1/np.sqrt(2)*(c2-c4)])"
   ]
  },
  {
   "cell_type": "code",
   "execution_count": 6,
   "metadata": {},
   "outputs": [],
   "source": [
    "bs_LOWZ[[1,3]] = c_to_b(bs_LOWZ[1], bs_LOWZ[3])\n",
    "bs_CMASS[[1,3]] = c_to_b(bs_CMASS[1], bs_CMASS[3])"
   ]
  },
  {
   "cell_type": "code",
   "execution_count": 7,
   "metadata": {},
   "outputs": [],
   "source": [
    "ng_LOWZ = 4e-4\n",
    "ng_CMASS = 4.5e-4"
   ]
  },
  {
   "cell_type": "code",
   "execution_count": 8,
   "metadata": {},
   "outputs": [],
   "source": [
    "cosmo = np.array([0.11933, 0.02242, 0.6766, 3.047, 0.9665])\n",
    "klin = np.linspace(MatEmu.kbird[:39].min(), MatEmu.kbird[:39].max(), MatEmu.kbird[:39].shape[0])"
   ]
  },
  {
   "cell_type": "code",
   "execution_count": 9,
   "metadata": {},
   "outputs": [],
   "source": [
    "for i, zi in enumerate([0.38, 0.51, 0.61]):\n",
    "    \n",
    "    if i > 0:\n",
    "        bs = bs_CMASS\n",
    "        ng = ng_CMASS\n",
    "    else:\n",
    "        bs = bs_LOWZ\n",
    "        ng = ng_LOWZ\n",
    "\n",
    "    P110 = np.load(save_dir+\"z{z}/P11l/P110_P18--z-{z}_optiresum-False.npy\".format(z=zi))\n",
    "    Ploop0 = np.load(save_dir+\"z{z}/Ploopl/Ploop0_P18--z-{z}_optiresum-False.npy\".format(z=zi))\n",
    "    Pct0 = np.load(save_dir+\"z{z}/Pctl/Pct0_P18--z-{z}_optiresum-False.npy\".format(z=zi))\n",
    "\n",
    "    P112 = np.load(save_dir+\"z{z}/P11l/P112_P18--z-{z}_optiresum-False.npy\".format(z=zi))\n",
    "    Ploop2 = np.load(save_dir+\"z{z}/Ploopl/Ploop2_P18--z-{z}_optiresum-False.npy\".format(z=zi))\n",
    "    Pct2 = np.load(save_dir+\"z{z}/Pctl/Pct2_P18--z-{z}_optiresum-False.npy\".format(z=zi))\n",
    "\n",
    "    f = MatHM.fN((cosmo[0]+cosmo[1])/cosmo[2]**2, zi)\n",
    "    \n",
    "    P0 = MatEFT.multipole([P110,Ploop0,Pct0],bs[:7],f,stochastic=bs[7:], ng=ng, multipole=0, \n",
    "                              kbins=MatEmu.kbird)[:39]\n",
    "    P2 = MatEFT.multipole([P112,Ploop2,Pct2],bs[:7],f,stochastic=bs[7:], ng=ng, multipole=2, \n",
    "                              kbins=MatEmu.kbird)[:39]\n",
    "    \n",
    "    np.save(save_dir+\"z{z}/poles/P0_P18--z-{z}_optiresum-False.npy\".format(z=zi), \n",
    "            np.stack([klin, interp1d(MatEmu.kbird[:39], P0)(klin)]))\n",
    "    np.save(save_dir+\"z{z}/poles/P2_P18--z-{z}_optiresum-False.npy\".format(z=zi), \n",
    "            np.stack([klin, interp1d(MatEmu.kbird[:39], P2)(klin)]))\n",
    "    "
   ]
  },
  {
   "cell_type": "markdown",
   "metadata": {},
   "source": [
    "## Gaussian covariance\n",
    "\n",
    "Now we move onto calculating Gaussian covariance matrices to go with our mock power spectra.\n",
    "\n",
    "To calculate these covariance matrices we will be using equations C2-C4 in [Taruya, Nishimichi, Saito (2010)](https://arxiv.org/abs/1006.0699). These are translated into Python below."
   ]
  },
  {
   "cell_type": "code",
   "execution_count": 10,
   "metadata": {},
   "outputs": [],
   "source": [
    "def C00_gauss(k, Pk, f, b, ng, deltak, Vs):\n",
    "    \n",
    "    beta = f/b\n",
    "    Nk = (4*np.pi*k**2*deltak)/(2*np.pi/Vs**(1/3))**3\n",
    "    A = (1 + 4/3*f + 6/5*beta**2 + 4/7*beta**3 + 1/9*beta**4)*(b**2*Pk)**2\n",
    "    B = 2/ng*(1 + 2/3*beta + 1/5*beta**2)*b**2*Pk\n",
    "    \n",
    "    return 2/Nk*(A+B+1/ng**2)\n",
    "\n",
    "def C02_gauss(k, Pk, f, b, ng, deltak, Vs):\n",
    "    \n",
    "    beta = f/b\n",
    "    Nk = (4*np.pi*k**2*deltak)/(2*np.pi/Vs**(1/3))**3\n",
    "    A = (8/3*beta + 24/7*beta**2 + 40/21*beta**3 + 40/99*beta**4)*(b**2*Pk)**2\n",
    "    B = 2/ng*(4/3*beta + 4/7*beta**2)*b**2*Pk\n",
    "    \n",
    "    return 2/Nk*(A+B)\n",
    "\n",
    "def C22_gauss(k, Pk, f, b, ng, deltak, Vs):\n",
    "    \n",
    "    beta = f/b\n",
    "    Nk = (4*np.pi*k**2*deltak)/(2*np.pi/Vs**(1/3))**3\n",
    "    A = (5 + 220/21*beta + 90/7*beta**2 + 1700/231*beta**3 + 2075/1287*beta**4)*(b**2*Pk)**2\n",
    "    B = 2/ng*(5 + 110/21*beta + 15/7*beta**2)*b**2*Pk\n",
    "    \n",
    "    return 2/Nk*(A+B+5/ng**2)"
   ]
  },
  {
   "cell_type": "code",
   "execution_count": 11,
   "metadata": {},
   "outputs": [],
   "source": [
    "def make_cov(C00, C22, C02):\n",
    "\n",
    "    C00 = np.diag(C00)\n",
    "    C22 = np.diag(C22)\n",
    "    C02 = np.diag(C02)\n",
    "        \n",
    "    return np.vstack([np.hstack([C00, C02]), np.hstack([C02, C22])])"
   ]
  },
  {
   "cell_type": "code",
   "execution_count": 12,
   "metadata": {},
   "outputs": [],
   "source": [
    "for i, zi in enumerate([0.38, 0.51, 0.61]):\n",
    "    kk = np.load(save_dir+\"z{z}/lin/Plin_P18--z-{z}.npy\".format(z=zi))[0]\n",
    "    Plin = np.load(save_dir+\"z{z}/lin/Plin_P18--z-{z}.npy\".format(z=zi))[1]\n",
    "    \n",
    "    Plin_int = interp1d(kk, Plin)(klin)\n",
    "    f = MatHM.fN((cosmo[0]+cosmo[1])/cosmo[2]**2, zi)\n",
    "    \n",
    "    if i > 0:\n",
    "        b1 = bs_CMASS[0]\n",
    "    else:\n",
    "        b1 = bs_LOWZ[0]\n",
    "    \n",
    "    for Vi in [1000,2000,3000,3700,4000,5000]:\n",
    "        \n",
    "        C00 = C00_gauss(klin, Plin_int, f, b1, ng, np.diff(klin)[0], Vi**3)\n",
    "        C22 = C22_gauss(klin, Plin_int, f, b1, ng, np.diff(klin)[0], Vi**3)\n",
    "        C02 = C02_gauss(klin, Plin_int, f, b1, ng, np.diff(klin)[0], Vi**3)\n",
    "        \n",
    "        np.save(save_dir+\"z{z}/covs/cov_P18--z-{z}_Vs-{V}.npy\".format(z=zi, V=Vi), \n",
    "                make_cov(C00, C22, C02))"
   ]
  },
  {
   "cell_type": "markdown",
   "metadata": {},
   "source": [
    "## Make figure _x_ for paper"
   ]
  },
  {
   "cell_type": "code",
   "execution_count": 13,
   "metadata": {},
   "outputs": [],
   "source": [
    "P0 = np.load(save_dir+\"z0.61/poles/P0_P18--z-0.61_optiresum-False.npy\")[1]\n",
    "P2 = np.load(save_dir+\"z0.61/poles/P2_P18--z-0.61_optiresum-False.npy\")[1]\n",
    "cov = np.load(save_dir+\"z0.61/covs/cov_P18--z-0.61_Vs-2000.npy\")"
   ]
  },
  {
   "cell_type": "code",
   "execution_count": 14,
   "metadata": {},
   "outputs": [
    {
     "data": {
      "image/png": "[encoded data removed]",
      "text/plain": [
       "<Figure size 432x288 with 1 Axes>"
      ]
     },
     "metadata": {
      "needs_background": "light"
     },
     "output_type": "display_data"
    }
   ],
   "source": [
    "plt.errorbar(klin, P0*klin, yerr=np.sqrt(cov.diagonal()[:klin.shape[0]])*klin)\n",
    "plt.errorbar(klin, P2*klin, yerr=np.sqrt(cov.diagonal()[klin.shape[0]:])*klin)\n",
    "plt.show()"
   ]
  },
  {
   "cell_type": "code",
   "execution_count": null,
   "metadata": {},
   "outputs": [],
   "source": []
  }
 ],
 "metadata": {
  "kernelspec": {
   "display_name": "matryoshka",
   "language": "python",
   "name": "matryoshka"
  },
  "language_info": {
   "codemirror_mode": {
    "name": "ipython",
    "version": 3
   },
   "file_extension": ".py",
   "mimetype": "text/x-python",
   "name": "python",
   "nbconvert_exporter": "python",
   "pygments_lexer": "ipython3",
   "version": "3.7.11"
  }
 },
 "nbformat": 4,
 "nbformat_minor": 4
}
