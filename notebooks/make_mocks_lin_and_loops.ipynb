{
 "cells": [
  {
   "cell_type": "markdown",
   "metadata": {},
   "source": [
    "# Mock making: linear power spectra and bias independant terms.\n",
    "\n",
    "In this notebook we calculate some funtions that will later be used to calculate our mock galaxy power specrum multipoles. These are:\n",
    "1. The linear power spectrum with [CLASS](https://github.com/lesgourg/class_public)\n",
    "2. Bias independant terms needed to calculate galaxy multipoles with [PyBird](https://github.com/pierrexyz/pybird).\n",
    "\n",
    "We will use a [Plank 2018](https://arxiv.org/abs/1807.06209) like $\\Lambda$CDM cosmology, with; $\\omega_c = 0.11933$, $\\omega_b = 0.02242$, $h=0.6766$, $\\ln{\\left(10^{10} A_s\\right)} = 3.047$, and $n_s=0.9665$.\n",
    "\n",
    "We will compute the relevant functions at $z=[0.38,0.51,0.61]$. These redshifts match those from the [PT mock-challenge](https://www2.yukawa.kyoto-u.ac.jp/~takahiro.nishimichi/data/PTchallenge/)."
   ]
  },
  {
   "cell_type": "code",
   "execution_count": 1,
   "metadata": {},
   "outputs": [],
   "source": [
    "import numpy as np\n",
    "from classy import Class\n",
    "import pybird\n",
    "from tqdm import tqdm"
   ]
  },
  {
   "cell_type": "markdown",
   "metadata": {},
   "source": [
    "As with most of the other notebooks in this repo we start by specifying the repo location."
   ]
  },
  {
   "cell_type": "code",
   "execution_count": 2,
   "metadata": {},
   "outputs": [],
   "source": [
    "path_to_repo = \"/home/donaldj/Desktop/EFTicg/\""
   ]
  },
  {
   "cell_type": "markdown",
   "metadata": {},
   "source": [
    "We next specify where within the repo we would like to save the functions we are calculating here."
   ]
  },
  {
   "cell_type": "code",
   "execution_count": 3,
   "metadata": {},
   "outputs": [],
   "source": [
    "save_dir = path_to_repo+\"data/P18/\""
   ]
  },
  {
   "cell_type": "markdown",
   "metadata": {},
   "source": [
    "Now we loop over the specified redshifts and calculate and save the desired functions."
   ]
  },
  {
   "cell_type": "code",
   "execution_count": 4,
   "metadata": {},
   "outputs": [
    {
     "name": "stderr",
     "output_type": "stream",
     "text": [
      "100%|█████████████████████████████████████████████| 3/3 [00:08<00:00,  2.90s/it]\n"
     ]
    }
   ],
   "source": [
    "# Define the k-values at which we will calculate the linear power.\n",
    "# We do this outside the loop as it will be the same for all redshifts.\n",
    "kk = np.logspace(-5, 0, 200)\n",
    "\n",
    "for zpk in tqdm([0.38, 0.51, 0.61]):\n",
    "\n",
    "    # Specify our cosmology and redshift for CLASS.\n",
    "    M = Class()\n",
    "    M.set({'output': 'mPk',\n",
    "           'P_k_max_1/Mpc': 1.0,\n",
    "           'z_max_pk': zpk})\n",
    "    M.set({'ln10^{10}A_s': 3.047,\n",
    "           'n_s': 0.9665,\n",
    "           'h': 0.6766,\n",
    "           'omega_b': 0.02242,\n",
    "           'omega_cdm': 0.11933,\n",
    "          })\n",
    "    \n",
    "    \n",
    "    # Calculate the linear power spectrum.\n",
    "    M.compute()\n",
    "        \n",
    "    # Convert to (Mpc/h)^3.\n",
    "    Pk = [M.pk(ki*M.h(), zpk)*M.h()**3 for ki in kk]\n",
    "    \n",
    "    np.save(save_dir+\"z{z}/lin/Plin_P18--z-{z}.npy\".format(z=zpk), np.stack([kk, Pk]))\n",
    "    \n",
    "    # Define all the classes required by PyBird\n",
    "    common = pybird.Common(optiresum=False)\n",
    "    nonlinear = pybird.NonLinear(load=True, save=True, co=common)\n",
    "    resum = pybird.Resum(co=common)\n",
    "    bird = pybird.Bird(kk, Pk, M.scale_independent_growth_factor_f(zpk), z=zpk, which='all', co=common)\n",
    "\n",
    "    # Calculate the desired functions.\n",
    "    nonlinear.PsCf(bird)\n",
    "    bird.setPsCfl()\n",
    "    resum.Ps(bird)\n",
    "\n",
    "    np.save(save_dir+\"z{z}/P11l/P110_P18--z-{z}_optiresum-False.npy\".format(z=zpk), bird.P11l[0])\n",
    "    np.save(save_dir+\"z{z}/P11l/P112_P18--z-{z}_optiresum-False.npy\".format(z=zpk), bird.P11l[1])\n",
    "\n",
    "    np.save(save_dir+\"z{z}/Ploopl/Ploop0_P18--z-{z}_optiresum-False.npy\".format(z=zpk), bird.Ploopl[0])\n",
    "    np.save(save_dir+\"z{z}/Ploopl/Ploop2_P18--z-{z}_optiresum-False.npy\".format(z=zpk), bird.Ploopl[1])\n",
    " \n",
    "    np.save(save_dir+\"z{z}/Pctl/Pct0_P18--z-{z}_optiresum-False.npy\".format(z=zpk), bird.Pctl[0])\n",
    "    np.save(save_dir+\"z{z}/Pctl/Pct2_P18--z-{z}_optiresum-False.npy\".format(z=zpk), bird.Pctl[1])"
   ]
  },
  {
   "cell_type": "code",
   "execution_count": null,
   "metadata": {},
   "outputs": [],
   "source": []
  }
 ],
 "metadata": {
  "kernelspec": {
   "display_name": "matryoshka",
   "language": "python",
   "name": "matryoshka"
  },
  "language_info": {
   "codemirror_mode": {
    "name": "ipython",
    "version": 3
   },
   "file_extension": ".py",
   "mimetype": "text/x-python",
   "name": "python",
   "nbconvert_exporter": "python",
   "pygments_lexer": "ipython3",
   "version": "3.7.11"
  }
 },
 "nbformat": 4,
 "nbformat_minor": 4
}
